{
 "cells": [
  {
   "cell_type": "code",
   "execution_count": 4,
   "id": "f85e165a-479c-43fc-95f4-fb1756065c23",
   "metadata": {},
   "outputs": [
    {
     "name": "stdout",
     "output_type": "stream",
     "text": [
      "Class distribution in test set: (array([0, 1, 2, 3, 4, 5]), array([ 36,  41,  11,  17,  11, 199], dtype=int64))\n",
      "\n",
      "Classification Report:\n",
      "              precision    recall  f1-score   support\n",
      "\n",
      "     sadness       0.26      0.19      0.22        36\n",
      "         joy       0.34      0.78      0.47        41\n",
      "        love       0.00      0.00      0.00        11\n",
      "       anger       0.00      0.00      0.00        17\n",
      "        fear       0.00      0.00      0.00        11\n",
      "    surprise       1.00      0.96      0.98       199\n",
      "\n",
      "    accuracy                           0.73       315\n",
      "   macro avg       0.27      0.32      0.28       315\n",
      "weighted avg       0.71      0.73      0.71       315\n",
      "\n",
      "\n",
      "Confusion Matrix:\n",
      "[[  7  28   0   1   0   0]\n",
      " [  9  32   0   0   0   0]\n",
      " [  5   6   0   0   0   0]\n",
      " [  5  12   0   0   0   0]\n",
      " [  0  11   0   0   0   0]\n",
      " [  1   6   0   0   0 192]]\n"
     ]
    }
   ],
   "source": [
    "#IMPORTS \n",
    "import torch\n",
    "import numpy as np\n",
    "import pandas as pd\n",
    "from datasets import load_dataset\n",
    "from sklearn.ensemble import RandomForestClassifier\n",
    "from sklearn.model_selection import train_test_split\n",
    "from sklearn.metrics import classification_report, confusion_matrix\n",
    "\n",
    "#LOAD DATA \n",
    "real_embeddings = torch.load(\"real_surprise_embeddings.pt\")\n",
    "fake_embeddings = torch.load(\"fake_surprise_embeddings.pt\")\n",
    "\n",
    "#PREPARE DATA \n",
    "dataset = load_dataset(\"dair-ai/emotion\")\n",
    "real_labels = dataset[\"train\"][\"label\"][:len(real_embeddings)]  # Original labels\n",
    "synth_labels = [5] * len(fake_embeddings)  # Synthetic = \"surprise\"\n",
    "balanced_labels = np.concatenate([real_labels, synth_labels])\n",
    "\n",
    "# Convert to numpy arrays\n",
    "X = torch.cat([\n",
    "    real_embeddings.detach(),  # Add .detach() here\n",
    "    fake_embeddings.detach()   # And here\n",
    "]).numpy()  # Now safe to convert to numpy\n",
    "y = balanced_labels\n",
    "\n",
    "# Train-test split\n",
    "X_train, X_test, y_train, y_test = train_test_split(\n",
    "    X, y, \n",
    "    test_size=0.2, \n",
    "    random_state=42\n",
    ")\n",
    "\n",
    "# Define emotion names\n",
    "emotion_names = [\"sadness\", \"joy\", \"love\", \"anger\", \"fear\", \"surprise\"]\n",
    "\n",
    "#TRAIN MODEL\n",
    "clf = RandomForestClassifier(random_state=42)\n",
    "clf.fit(X_train, y_train)\n",
    "\n",
    "#EVALUATE\n",
    "y_pred = clf.predict(X_test)\n",
    "\n",
    "print(\"Class distribution in test set:\", np.unique(y_test, return_counts=True))\n",
    "print(\"\\nClassification Report:\")\n",
    "print(classification_report(\n",
    "    y_test, y_pred,\n",
    "    target_names=emotion_names,  \n",
    "    zero_division=0\n",
    "))\n",
    "\n",
    "print(\"\\nConfusion Matrix:\")\n",
    "print(confusion_matrix(y_test, y_pred, labels=range(6)))"
   ]
  },
  {
   "cell_type": "code",
   "execution_count": null,
   "id": "b443aeda-4175-426b-b38d-cbe30eceaecd",
   "metadata": {},
   "outputs": [],
   "source": []
  }
 ],
 "metadata": {
  "kernelspec": {
   "display_name": "Python 3 (ipykernel)",
   "language": "python",
   "name": "python3"
  },
  "language_info": {
   "codemirror_mode": {
    "name": "ipython",
    "version": 3
   },
   "file_extension": ".py",
   "mimetype": "text/x-python",
   "name": "python",
   "nbconvert_exporter": "python",
   "pygments_lexer": "ipython3",
   "version": "3.12.7"
  }
 },
 "nbformat": 4,
 "nbformat_minor": 5
}
